{
  "nbformat": 4,
  "nbformat_minor": 0,
  "metadata": {
    "colab": {
      "provenance": [],
      "gpuType": "T4",
      "authorship_tag": "ABX9TyONw3QP2dJHEZSwp7EdefsS",
      "include_colab_link": true
    },
    "kernelspec": {
      "name": "python3",
      "display_name": "Python 3"
    },
    "language_info": {
      "name": "python"
    },
    "accelerator": "GPU"
  },
  "cells": [
    {
      "cell_type": "markdown",
      "metadata": {
        "id": "view-in-github",
        "colab_type": "text"
      },
      "source": [
        "<a href=\"https://colab.research.google.com/github/jayc279/collab/blob/main/fashion_mnist_conv_5_stack.ipynb\" target=\"_parent\"><img src=\"https://colab.research.google.com/assets/colab-badge.svg\" alt=\"Open In Colab\"/></a>"
      ]
    },
    {
      "cell_type": "code",
      "source": [
        "\n",
        "from google.colab import drive\n",
        "drive.mount('/content/drive/', force_remount=True)\n",
        "# drive.flush_and_unmount()\n",
        "# !ls /content/drive/MyDrive/colab_work/"
      ],
      "metadata": {
        "id": "7bbdJs_3Wt7Y",
        "colab": {
          "base_uri": "https://localhost:8080/"
        },
        "outputId": "6f4f0d81-a197-479a-9c3b-ca4de7fea3b1"
      },
      "execution_count": 1,
      "outputs": [
        {
          "output_type": "stream",
          "name": "stdout",
          "text": [
            "Mounted at /content/drive/\n",
            "drive  sample_data\n"
          ]
        }
      ]
    },
    {
      "cell_type": "code",
      "source": [
        "# !pip install -U -q kaggle\n",
        "# !mkdir -p ~/.kaggle\n",
        "\n",
        "# %cd gdrive/MyDrive/colab_work\n",
        "# !cp kaggle.json ~/.kaggle"
      ],
      "metadata": {
        "id": "zT-qaVujXC1O"
      },
      "execution_count": 2,
      "outputs": []
    },
    {
      "cell_type": "code",
      "source": [
        "import tensorflow as tf\n",
        "from tensorflow import keras\n",
        "import keras.backend as K\n",
        "from keras.layers import Dense, Conv2D, Conv2DTranspose, Flatten, Dropout, BatchNormalization, Input\n",
        "from keras.layers import MaxPooling2D, Embedding\n",
        "from keras.models import Model, Sequential\n",
        "from keras.layers import ReLU, LeakyReLU, ELU, Softmax\n",
        "from keras.layers.experimental import preprocessing"
      ],
      "metadata": {
        "id": "DQb6JCXbbo8y"
      },
      "execution_count": 3,
      "outputs": []
    },
    {
      "cell_type": "code",
      "source": [
        "from keras.datasets import mnist, fashion_mnist\n",
        "from keras.optimizers import Adam, RMSprop\n",
        "from keras.callbacks import Callback"
      ],
      "metadata": {
        "id": "LqqUf7-td_6f"
      },
      "execution_count": 4,
      "outputs": []
    },
    {
      "cell_type": "code",
      "source": [
        "mnist_data = mnist.load_data()"
      ],
      "metadata": {
        "id": "ZXbSbjV8gp3r"
      },
      "execution_count": 5,
      "outputs": []
    },
    {
      "cell_type": "code",
      "source": [
        "type(mnist_data)"
      ],
      "metadata": {
        "colab": {
          "base_uri": "https://localhost:8080/"
        },
        "id": "xm3lhYnagvTh",
        "outputId": "0c439abb-9057-4bcc-ddbf-b357f4e43979"
      },
      "execution_count": 6,
      "outputs": [
        {
          "output_type": "execute_result",
          "data": {
            "text/plain": [
              "tuple"
            ]
          },
          "metadata": {},
          "execution_count": 6
        }
      ]
    },
    {
      "cell_type": "code",
      "source": [
        "fashion_data =  fashion_mnist.load_data()"
      ],
      "metadata": {
        "id": "JPKylss3gxCd"
      },
      "execution_count": 7,
      "outputs": []
    },
    {
      "cell_type": "code",
      "source": [
        "(train_images, train_labels), (test_images, test_labels) = fashion_data"
      ],
      "metadata": {
        "id": "AtLTG7vzg7Ht"
      },
      "execution_count": 8,
      "outputs": []
    },
    {
      "cell_type": "code",
      "source": [
        "%load_ext autoreload\n",
        "%autoreload 2"
      ],
      "metadata": {
        "id": "c1aDAfSgkLyf"
      },
      "execution_count": 9,
      "outputs": []
    },
    {
      "cell_type": "code",
      "source": [
        "import numpy as np\n",
        "import pandas as pd\n",
        "import matplotlib.pyplot as plt\n",
        "import seaborn as sns\n",
        "%matplotlib inline"
      ],
      "metadata": {
        "id": "dzT3W_DDj951"
      },
      "execution_count": 10,
      "outputs": []
    },
    {
      "cell_type": "code",
      "source": [
        "train_images = (train_images/255).astype(np.float32)\n",
        "test_images = (test_images/255).astype(np.float32)"
      ],
      "metadata": {
        "id": "oZ63qKP3jRNi"
      },
      "execution_count": 11,
      "outputs": []
    },
    {
      "cell_type": "code",
      "source": [
        "from skimage.transform import resize\n",
        "img = train_images[10]\n",
        "img_resized = resize(img, (3, 3))"
      ],
      "metadata": {
        "id": "Cw5JmKmy1i-2"
      },
      "execution_count": 12,
      "outputs": []
    },
    {
      "cell_type": "code",
      "source": [
        "print(img_resized.shape)\n",
        "\n",
        "plt.figure(figsize=(3,3))\n",
        "plt.subplot(2,2,1)\n",
        "plt.imshow(img_resized)\n",
        "plt.subplot(2,2,2)\n",
        "plt.imshow(img)"
      ],
      "metadata": {
        "id": "SlYzEhiwjTYY",
        "colab": {
          "base_uri": "https://localhost:8080/",
          "height": 206
        },
        "outputId": "7fdbee88-2331-4b53-b704-f04bb051bfd7"
      },
      "execution_count": 13,
      "outputs": [
        {
          "output_type": "stream",
          "name": "stdout",
          "text": [
            "(3, 3)\n"
          ]
        },
        {
          "output_type": "execute_result",
          "data": {
            "text/plain": [
              "<matplotlib.image.AxesImage at 0x7caf0aa32500>"
            ]
          },
          "metadata": {},
          "execution_count": 13
        },
        {
          "output_type": "display_data",
          "data": {
            "text/plain": [
              "<Figure size 300x300 with 2 Axes>"
            ],
            "image/png": "[encoded data removed]"
          },
          "metadata": {}
        }
      ]
    },
    {
      "cell_type": "code",
      "source": [
        "train_labels.max(), train_labels.min()\n",
        "from keras.utils import to_categorical\n",
        "num_cats = train_labels.max() + 1\n",
        "print(num_cats)\n",
        "train_labels = to_categorical(train_labels, num_classes=num_cats)\n",
        "test_labels = to_categorical(test_labels, num_classes=num_cats)"
      ],
      "metadata": {
        "colab": {
          "base_uri": "https://localhost:8080/"
        },
        "id": "pJQE0MS73ClN",
        "outputId": "62d423df-4a96-4f44-b7bb-6fcc4fda1211"
      },
      "execution_count": 14,
      "outputs": [
        {
          "output_type": "stream",
          "name": "stdout",
          "text": [
            "10\n"
          ]
        }
      ]
    },
    {
      "cell_type": "code",
      "source": [
        "train_labels[:10]"
      ],
      "metadata": {
        "colab": {
          "base_uri": "https://localhost:8080/"
        },
        "id": "l5uDDsUP337x",
        "outputId": "ab3d148b-6523-468b-c5e3-e22385963001"
      },
      "execution_count": 15,
      "outputs": [
        {
          "output_type": "execute_result",
          "data": {
            "text/plain": [
              "array([[0., 0., 0., 0., 0., 0., 0., 0., 0., 1.],\n",
              "       [1., 0., 0., 0., 0., 0., 0., 0., 0., 0.],\n",
              "       [1., 0., 0., 0., 0., 0., 0., 0., 0., 0.],\n",
              "       [0., 0., 0., 1., 0., 0., 0., 0., 0., 0.],\n",
              "       [1., 0., 0., 0., 0., 0., 0., 0., 0., 0.],\n",
              "       [0., 0., 1., 0., 0., 0., 0., 0., 0., 0.],\n",
              "       [0., 0., 0., 0., 0., 0., 0., 1., 0., 0.],\n",
              "       [0., 0., 1., 0., 0., 0., 0., 0., 0., 0.],\n",
              "       [0., 0., 0., 0., 0., 1., 0., 0., 0., 0.],\n",
              "       [0., 0., 0., 0., 0., 1., 0., 0., 0., 0.]], dtype=float32)"
            ]
          },
          "metadata": {},
          "execution_count": 15
        }
      ]
    },
    {
      "cell_type": "code",
      "source": [
        "train_images.shape, train_images.shape[2]\n",
        "print(test_labels[:2])"
      ],
      "metadata": {
        "colab": {
          "base_uri": "https://localhost:8080/"
        },
        "id": "QfIHR_qz5rZ9",
        "outputId": "cab3a693-63e0-4f36-b79c-debfea1a407a"
      },
      "execution_count": 16,
      "outputs": [
        {
          "output_type": "stream",
          "name": "stdout",
          "text": [
            "[[0. 0. 0. 0. 0. 0. 0. 0. 0. 1.]\n",
            " [0. 0. 1. 0. 0. 0. 0. 0. 0. 0.]]\n"
          ]
        }
      ]
    },
    {
      "cell_type": "code",
      "source": [
        "train_images = np.expand_dims(train_images, -1)\n",
        "test_images = np.expand_dims(test_images, -1)"
      ],
      "metadata": {
        "id": "3fxc4POF6dnZ"
      },
      "execution_count": 17,
      "outputs": []
    },
    {
      "cell_type": "code",
      "source": [
        "print(test_images.shape, train_images.shape)"
      ],
      "metadata": {
        "colab": {
          "base_uri": "https://localhost:8080/"
        },
        "id": "IFckSUet8PqQ",
        "outputId": "1291929d-c3f7-4b87-d213-a8f14d7a9a86"
      },
      "execution_count": 18,
      "outputs": [
        {
          "output_type": "stream",
          "name": "stdout",
          "text": [
            "(10000, 28, 28, 1) (60000, 28, 28, 1)\n"
          ]
        }
      ]
    },
    {
      "cell_type": "code",
      "source": [
        "from sklearn.model_selection import train_test_split\n",
        "(X_val, X_test, y_val, y_test) = train_test_split(test_images, test_labels, random_state=1, shuffle=True, test_size=0.5)"
      ],
      "metadata": {
        "id": "kZEa2i4dp8ky"
      },
      "execution_count": 19,
      "outputs": []
    },
    {
      "cell_type": "code",
      "source": [
        "from os import EX_PROTOCOL\n",
        "def create_model(inp):\n",
        "  keras.backend.clear_session()\n",
        "  model_in = Input(shape=(inp.shape[1], inp.shape[2], 1))\n",
        "\n",
        "  # block1\n",
        "  layer1 = Conv2D(512, kernel_size=(3,3), strides=1, padding='same')(model_in)\n",
        "  act1 = ReLU()(layer1)\n",
        "  max1 = MaxPooling2D(pool_size=(2,2))(act1)\n",
        "\n",
        "  # block2\n",
        "  layer2 = Conv2D(512, kernel_size=(3,3), strides=1, padding='same')(max1)\n",
        "  act2 = ReLU()(layer2)\n",
        "  max2 = MaxPooling2D(pool_size=(2,2))(act2)\n",
        "  batch1 = BatchNormalization(momentum=0.98, epsilon=0.002)(max2)\n",
        "\n",
        "  # block3\n",
        "  layer3 = Conv2D(256, kernel_size=(3,3), strides=1, padding='same')(batch1)\n",
        "  act3 = ReLU()(layer3)\n",
        "  max3 = MaxPooling2D(pool_size=(2,2))(act3)\n",
        "\n",
        "# block4\n",
        "  layer4 = Conv2D(256, kernel_size=(3,3), strides=1, padding='same')(max3)\n",
        "  act4 = ReLU()(layer4)\n",
        "  max4 = MaxPooling2D(pool_size=(2,2))(act4)\n",
        "  # flat1 = Flatten()(max4)\n",
        "\n",
        "  batch2 = BatchNormalization(momentum=0.98, epsilon=0.002)(max4)\n",
        "  flat1 = Flatten()(batch2)\n",
        "\n",
        "  dense1 = Dense(512, activation='relu')(flat1)\n",
        "  drop1 = Dropout(0.4)(dense1)\n",
        "  dense2 = Dense(256, activation='relu')(drop1)\n",
        "  dense3 = Dense(256, activation='relu')(dense2)\n",
        "\n",
        "  dense4 = Dense(128, activation='relu')(dense3)\n",
        "  # drop2 = Dropout(0.4)(dense3)\n",
        "  # dense41 = Dense(128, activation='relu')(drop2)\n",
        "\n",
        "  dense5 = Dense(64, activation='relu')(dense4)\n",
        "  out = Dense(num_cats, activation='softmax')(dense5)\n",
        "\n",
        "  model = Model(model_in, out)\n",
        "\n",
        "  return model\n",
        ""
      ],
      "metadata": {
        "id": "iPg95YBBxxzV"
      },
      "execution_count": 20,
      "outputs": []
    },
    {
      "cell_type": "code",
      "source": [
        "# directories on Google Drive to save models, weights, logs\n",
        "tensor_log_dir = '/content/drive/MyDrive/colab_work/logs'\n",
        "checkpoint_keras_filepath = '/content/drive/MyDrive/colab_work/backup/mnist.keras'\n",
        "checkpoint_weights_filepath = '/content/drive/MyDrive/colab_work/backup/mnist.weights.h5'\n",
        "model_backup_dir = '/content/drive/MyDrive/colab_work/backup'"
      ],
      "metadata": {
        "id": "VzOO3-t_zFJa"
      },
      "execution_count": 21,
      "outputs": []
    },
    {
      "cell_type": "code",
      "source": [
        "# Tensorboard callback\n",
        "tensorboard_callback = keras.callbacks.TensorBoard(log_dir=tensor_log_dir,\n",
        "                                                   update_freq='epoch',\n",
        "                                                   )"
      ],
      "metadata": {
        "id": "V4eRGeDomOlb"
      },
      "execution_count": 22,
      "outputs": []
    },
    {
      "cell_type": "code",
      "source": [
        "# backup -an- restore\n",
        "call_restore = keras.callbacks.BackupAndRestore(backup_dir=model_backup_dir)"
      ],
      "metadata": {
        "id": "_aFAHT4jknlH"
      },
      "execution_count": 23,
      "outputs": []
    },
    {
      "cell_type": "code",
      "source": [
        "# keras.callbacks.ModelCheckpoint\n",
        "checkpoint_model_save = keras.callbacks.ModelCheckpoint(\n",
        "    filepath=checkpoint_keras_filepath,   # where to save - is it a file or directory - it must end in .keras\n",
        "    monitor='val_accuracy',\n",
        "    mode='max',\n",
        "    save_best_only=True)\n",
        "\n",
        "checkpoint_weights_save = keras.callbacks.ModelCheckpoint(\n",
        "    filepath=checkpoint_weights_filepath,           # where to save - is it a file or directory - must end in .weights.h5\n",
        "    save_weights_only=True,\n",
        "    monitor='val_accuracy',\n",
        "    mode='max',\n",
        "    save_best_only=True)\n",
        "\n",
        "# The model (that are considered the best) can be loaded as -\n",
        "# keras.models.load_model(checkpoint_filepath)"
      ],
      "metadata": {
        "id": "vT1cMUQNnoNu"
      },
      "execution_count": 24,
      "outputs": []
    },
    {
      "cell_type": "code",
      "source": [
        "# create callbacks\n",
        "callback = keras.callbacks.EarlyStopping(\n",
        "    monitor='loss',\n",
        "    min_delta = 0.2,\n",
        "    patience=3,\n",
        "    verbose=1,\n",
        "    restore_best_weights = False,\n",
        "    start_from_epoch=20\n",
        ")"
      ],
      "metadata": {
        "id": "2GmdABfjAex-"
      },
      "execution_count": 25,
      "outputs": []
    },
    {
      "cell_type": "code",
      "source": [
        "class CustomCallBacks(Callback):\n",
        "  def on_epoch_end(self, epoch, logs=None):\n",
        "    keys = list(logs.keys())\n",
        "    # print(f'End of Epoch: {epoch} - keys:{keys}')\n",
        "    print(f'End of Epoch: {epoch}', end=\" \")"
      ],
      "metadata": {
        "id": "w9BjfE0yCVyk"
      },
      "execution_count": 26,
      "outputs": []
    },
    {
      "cell_type": "code",
      "source": [
        "minst_model = create_model(train_images)\n",
        "minst_model.summary()\n",
        "minst_model.compile(loss='categorical_crossentropy', optimizer=Adam(learning_rate=0.002, beta_1=0.5), metrics=['accuracy'])"
      ],
      "metadata": {
        "colab": {
          "base_uri": "https://localhost:8080/"
        },
        "id": "YcijyoP8DPJk",
        "outputId": "bb924707-a426-437e-f3dc-71746ed76245"
      },
      "execution_count": 27,
      "outputs": [
        {
          "output_type": "stream",
          "name": "stdout",
          "text": [
            "Model: \"model\"\n",
            "_________________________________________________________________\n",
            " Layer (type)                Output Shape              Param #   \n",
            "=================================================================\n",
            " input_1 (InputLayer)        [(None, 28, 28, 1)]       0         \n",
            "                                                                 \n",
            " conv2d (Conv2D)             (None, 28, 28, 512)       5120      \n",
            "                                                                 \n",
            " re_lu (ReLU)                (None, 28, 28, 512)       0         \n",
            "                                                                 \n",
            " max_pooling2d (MaxPooling2  (None, 14, 14, 512)       0         \n",
            " D)                                                              \n",
            "                                                                 \n",
            " conv2d_1 (Conv2D)           (None, 14, 14, 512)       2359808   \n",
            "                                                                 \n",
            " re_lu_1 (ReLU)              (None, 14, 14, 512)       0         \n",
            "                                                                 \n",
            " max_pooling2d_1 (MaxPoolin  (None, 7, 7, 512)         0         \n",
            " g2D)                                                            \n",
            "                                                                 \n",
            " batch_normalization (Batch  (None, 7, 7, 512)         2048      \n",
            " Normalization)                                                  \n",
            "                                                                 \n",
            " conv2d_2 (Conv2D)           (None, 7, 7, 256)         1179904   \n",
            "                                                                 \n",
            " re_lu_2 (ReLU)              (None, 7, 7, 256)         0         \n",
            "                                                                 \n",
            " max_pooling2d_2 (MaxPoolin  (None, 3, 3, 256)         0         \n",
            " g2D)                                                            \n",
            "                                                                 \n",
            " conv2d_3 (Conv2D)           (None, 3, 3, 256)         590080    \n",
            "                                                                 \n",
            " re_lu_3 (ReLU)              (None, 3, 3, 256)         0         \n",
            "                                                                 \n",
            " max_pooling2d_3 (MaxPoolin  (None, 1, 1, 256)         0         \n",
            " g2D)                                                            \n",
            "                                                                 \n",
            " batch_normalization_1 (Bat  (None, 1, 1, 256)         1024      \n",
            " chNormalization)                                                \n",
            "                                                                 \n",
            " flatten (Flatten)           (None, 256)               0         \n",
            "                                                                 \n",
            " dense (Dense)               (None, 512)               131584    \n",
            "                                                                 \n",
            " dropout (Dropout)           (None, 512)               0         \n",
            "                                                                 \n",
            " dense_1 (Dense)             (None, 256)               131328    \n",
            "                                                                 \n",
            " dense_2 (Dense)             (None, 256)               65792     \n",
            "                                                                 \n",
            " dense_3 (Dense)             (None, 128)               32896     \n",
            "                                                                 \n",
            " dense_4 (Dense)             (None, 64)                8256      \n",
            "                                                                 \n",
            " dense_5 (Dense)             (None, 10)                650       \n",
            "                                                                 \n",
            "=================================================================\n",
            "Total params: 4508490 (17.20 MB)\n",
            "Trainable params: 4506954 (17.19 MB)\n",
            "Non-trainable params: 1536 (6.00 KB)\n",
            "_________________________________________________________________\n"
          ]
        }
      ]
    },
    {
      "cell_type": "code",
      "source": [
        "history = minst_model.fit(train_images, train_labels,\n",
        "                          epochs=50, batch_size=32,\n",
        "                          callbacks=[callback, call_restore,\n",
        "                                     checkpoint_model_save,checkpoint_weights_save,\n",
        "                                     tensorboard_callback, CustomCallBacks()],\n",
        "                          validation_data=([X_val, y_val]),\n",
        "                          verbose=2)"
      ],
      "metadata": {
        "colab": {
          "base_uri": "https://localhost:8080/"
        },
        "id": "sCNW5zHvB9e8",
        "outputId": "f2d25693-6fc1-401b-daac-d5a35c532f7b"
      },
      "execution_count": null,
      "outputs": [
        {
          "output_type": "stream",
          "name": "stdout",
          "text": [
            "Epoch 1/50\n",
            "End of Epoch: 0 1875/1875 - 56s - loss: 0.5061 - accuracy: 0.8213 - val_loss: 0.3844 - val_accuracy: 0.8668 - 56s/epoch - 30ms/step\n",
            "Epoch 2/50\n",
            "End of Epoch: 1 1875/1875 - 37s - loss: 0.3336 - accuracy: 0.8836 - val_loss: 0.3331 - val_accuracy: 0.8776 - 37s/epoch - 20ms/step\n",
            "Epoch 3/50\n",
            "End of Epoch: 2 1875/1875 - 38s - loss: 0.3028 - accuracy: 0.8952 - val_loss: 0.2799 - val_accuracy: 0.9016 - 38s/epoch - 20ms/step\n",
            "Epoch 4/50\n",
            "End of Epoch: 3 1875/1875 - 36s - loss: 0.2603 - accuracy: 0.9105 - val_loss: 0.3212 - val_accuracy: 0.8904 - 36s/epoch - 19ms/step\n",
            "Epoch 5/50\n",
            "End of Epoch: 4 1875/1875 - 38s - loss: 0.2458 - accuracy: 0.9141 - val_loss: 0.4059 - val_accuracy: 0.8830 - 38s/epoch - 20ms/step\n",
            "Epoch 6/50\n",
            "End of Epoch: 5 1875/1875 - 39s - loss: 0.2353 - accuracy: 0.9215 - val_loss: 0.2804 - val_accuracy: 0.9030 - 39s/epoch - 21ms/step\n",
            "Epoch 7/50\n",
            "End of Epoch: 6 1875/1875 - 39s - loss: 0.2138 - accuracy: 0.9269 - val_loss: 0.2573 - val_accuracy: 0.9160 - 39s/epoch - 21ms/step\n",
            "Epoch 8/50\n",
            "End of Epoch: 7 1875/1875 - 40s - loss: 0.2055 - accuracy: 0.9302 - val_loss: 0.2350 - val_accuracy: 0.9212 - 40s/epoch - 21ms/step\n",
            "Epoch 9/50\n",
            "End of Epoch: 8 1875/1875 - 38s - loss: 0.1851 - accuracy: 0.9362 - val_loss: 0.4096 - val_accuracy: 0.9154 - 38s/epoch - 20ms/step\n",
            "Epoch 10/50\n"
          ]
        }
      ]
    },
    {
      "cell_type": "code",
      "source": [
        "model_eval = minst_model.evaluate(X_val, y_val, verbose=2)"
      ],
      "metadata": {
        "id": "UcFIRNEjQ_ih"
      },
      "execution_count": null,
      "outputs": []
    },
    {
      "cell_type": "code",
      "source": [
        "predictions = minst_model.predict(X_test)"
      ],
      "metadata": {
        "id": "xhF0EZH-VUUA"
      },
      "execution_count": null,
      "outputs": []
    },
    {
      "cell_type": "code",
      "source": [
        "hist_frame = pd.DataFrame(history.history)\n",
        "sns.lineplot(data=hist_frame.loc[:,['loss', 'val_loss']])"
      ],
      "metadata": {
        "id": "cIALl7whDMgI"
      },
      "execution_count": null,
      "outputs": []
    },
    {
      "cell_type": "code",
      "source": [
        "sns.lineplot(data=hist_frame.loc[:,['accuracy', 'val_accuracy']])"
      ],
      "metadata": {
        "id": "Q_V28vugX3yX"
      },
      "execution_count": null,
      "outputs": []
    },
    {
      "cell_type": "code",
      "source": [
        "model_eval = minst_model.evaluate(X_test, y_test, verbose=2)"
      ],
      "metadata": {
        "id": "aXis8ideQ3QH"
      },
      "execution_count": null,
      "outputs": []
    },
    {
      "cell_type": "code",
      "source": [
        "# convert predictions to capture actual predicted\n",
        "y_predicted = np.argmax(predictions, axis=1)\n",
        "y_truth = np.argmax(y_test, axis=1)\n",
        "# print(y_predicted[:100])\n",
        "# print(y_truth[:100])\n",
        "correct_pred = len(y_truth[np.equal(y_truth, y_predicted)])\n",
        "incorrect_pred = len(y_truth[~np.equal(y_truth, y_predicted)])\n",
        "print('correct count; ', correct_pred)\n",
        "print('incorrect count; ', incorrect_pred)\n",
        "print('correct percentage=' , (correct_pred / (correct_pred + incorrect_pred))*100)\n",
        "print('in-correct percentage=' , (incorrect_pred / (correct_pred + incorrect_pred))*100)"
      ],
      "metadata": {
        "id": "ZNdoChqcc98f"
      },
      "execution_count": null,
      "outputs": []
    },
    {
      "cell_type": "code",
      "source": [
        "y_truth[:20], y_predicted[:20]\n",
        "print('# of values that do not match ground truth: ', len(y_truth[~np.equal(y_truth, y_predicted)]))"
      ],
      "metadata": {
        "id": "Zlwjt7T2dCmf"
      },
      "execution_count": null,
      "outputs": []
    },
    {
      "cell_type": "code",
      "source": [
        "# for i in range(len(y_truth[~np.equal(y_truth, y_predicted)])):\n",
        "#   if i % 10 == 0:\n",
        "#      print(i,':',y_predicted[i],':',y_truth[~np.equal(y_truth, y_predicted)][i], end='\\n')\n",
        "#   else:\n",
        "#     print(i,':',y_predicted[i],':',y_truth[~np.equal(y_truth, y_predicted)][i], end=' - ')"
      ],
      "metadata": {
        "id": "FCpTwVv9tBAm"
      },
      "execution_count": null,
      "outputs": []
    },
    {
      "cell_type": "code",
      "source": [
        "# y_truth[~np.equal(y_truth, y_predicted)]\n",
        "xx = np.equal(y_truth, y_predicted)\n",
        "xx_where = np.where(xx == False)"
      ],
      "metadata": {
        "id": "4-MuN7iB8iul"
      },
      "execution_count": null,
      "outputs": []
    },
    {
      "cell_type": "code",
      "source": [
        "# # print IDs in y_truth and y_predicted Numpy arrays where VALUEs do not match\n",
        "for i in list(xx_where[0]):\n",
        "  print('i:', i, '-', y_truth[i], '-', y_predicted[i])"
      ],
      "metadata": {
        "id": "XdUmScnG9RQ5"
      },
      "execution_count": null,
      "outputs": []
    },
    {
      "cell_type": "code",
      "source": [
        "plt.figure(figsize=(3,3))\n",
        "plt.subplot(2,2,1)\n",
        "plt.imshow(X_test[4220])\n",
        "plt.title('item 2')\n",
        "plt.subplot(2,2,2)\n",
        "plt.imshow(X_test[4277])\n",
        "plt.title('item 4')\n",
        "plt.subplot(2,2,3)\n",
        "plt.imshow(X_test[4444])\n",
        "plt.xlabel('item 0')\n",
        "plt.subplot(2,2,4)\n",
        "plt.imshow(X_test[4746])\n",
        "plt.xlabel('item 6')"
      ],
      "metadata": {
        "id": "uvaWoXUfruGy"
      },
      "execution_count": null,
      "outputs": []
    },
    {
      "cell_type": "code",
      "source": [
        "# TensorBoard\n",
        "%load_ext tensorboard\n",
        "# %reload_ext tensorboard"
      ],
      "metadata": {
        "id": "2VJlEVoxr-7S"
      },
      "execution_count": null,
      "outputs": []
    },
    {
      "cell_type": "code",
      "source": [
        "# Best to remount Goole Drive - since session may have restarted multipel time\n",
        "from google.colab import drive\n",
        "drive.mount('/content/drive/', force_remount=True)"
      ],
      "metadata": {
        "id": "XEuG-700Ph0E"
      },
      "execution_count": null,
      "outputs": []
    },
    {
      "cell_type": "code",
      "source": [
        "# don't think you will need to CD to directory, but check\n",
        "# !cd /content/drive/MyDrive/colab_work/\n",
        "# verfication -to make sure there ia 'logs' directory with 'Train' and 'Validation' directories\n",
        "# !ls"
      ],
      "metadata": {
        "id": "HD7-PKxPR6mq"
      },
      "execution_count": null,
      "outputs": []
    },
    {
      "cell_type": "code",
      "source": [
        "# %tensorboard --logdir tensor_log_dir"
      ],
      "metadata": {
        "id": "GPwO3XzVRyS7"
      },
      "execution_count": null,
      "outputs": []
    },
    {
      "cell_type": "code",
      "source": [],
      "metadata": {
        "id": "fahbA1UOQEbl"
      },
      "execution_count": null,
      "outputs": []
    }
  ]
}